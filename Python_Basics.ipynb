{
  "nbformat": 4,
  "nbformat_minor": 0,
  "metadata": {
    "colab": {
      "provenance": [],
      "authorship_tag": "ABX9TyNdyPbzhr3Y3PRVa+Khea3b",
      "include_colab_link": true
    },
    "kernelspec": {
      "name": "python3",
      "display_name": "Python 3"
    },
    "language_info": {
      "name": "python"
    }
  },
  "cells": [
    {
      "cell_type": "markdown",
      "metadata": {
        "id": "view-in-github",
        "colab_type": "text"
      },
      "source": [
        "<a href=\"https://colab.research.google.com/github/Arshnoor-Singh-Sohi/.github/blob/main/Python_Basics.ipynb\" target=\"_parent\"><img src=\"https://colab.research.google.com/assets/colab-badge.svg\" alt=\"Open In Colab\"/></a>"
      ]
    },
    {
      "cell_type": "code",
      "execution_count": null,
      "metadata": {
        "colab": {
          "base_uri": "https://localhost:8080/"
        },
        "id": "Mc3fLQhIbimP",
        "outputId": "c5302766-3b2d-4305-b9b7-dce7722b71d1"
      },
      "outputs": [
        {
          "output_type": "execute_result",
          "data": {
            "text/plain": [
              "10"
            ]
          },
          "metadata": {},
          "execution_count": 2
        }
      ],
      "source": [
        "a = 10\n",
        "a"
      ]
    },
    {
      "cell_type": "code",
      "source": [
        "a = \"Harsh\"\n",
        "a"
      ],
      "metadata": {
        "colab": {
          "base_uri": "https://localhost:8080/",
          "height": 35
        },
        "id": "k7DGTUZAfjmF",
        "outputId": "6c6becd7-a188-4005-94f5-a77e5fb56276"
      },
      "execution_count": null,
      "outputs": [
        {
          "output_type": "execute_result",
          "data": {
            "text/plain": [
              "'Harsh'"
            ],
            "application/vnd.google.colaboratory.intrinsic+json": {
              "type": "string"
            }
          },
          "metadata": {},
          "execution_count": 3
        }
      ]
    },
    {
      "cell_type": "code",
      "source": [
        "print(a)"
      ],
      "metadata": {
        "colab": {
          "base_uri": "https://localhost:8080/"
        },
        "id": "-WU5gRItgB0Y",
        "outputId": "ee522aba-c179-4fe2-8aa1-00b2c38a4ab3"
      },
      "execution_count": null,
      "outputs": [
        {
          "output_type": "stream",
          "name": "stdout",
          "text": [
            "Harsh\n"
          ]
        }
      ]
    },
    {
      "cell_type": "code",
      "source": [
        "word = \"PYTHON\"\n",
        "print(word[0])\n",
        "print(word[1])\n",
        "print(word[2])\n",
        "print(word[3])\n",
        "print(word[4])"
      ],
      "metadata": {
        "colab": {
          "base_uri": "https://localhost:8080/"
        },
        "id": "JdXgC86AgOaC",
        "outputId": "f92d062e-a3e8-44ba-a88d-db90121f9f3d"
      },
      "execution_count": null,
      "outputs": [
        {
          "output_type": "stream",
          "name": "stdout",
          "text": [
            "P\n",
            "Y\n",
            "T\n",
            "H\n",
            "O\n"
          ]
        }
      ]
    },
    {
      "cell_type": "markdown",
      "source": [
        "# Index Slicing"
      ],
      "metadata": {
        "id": "34ves7qIgmsK"
      }
    },
    {
      "cell_type": "code",
      "source": [
        "print(word[0:3])"
      ],
      "metadata": {
        "colab": {
          "base_uri": "https://localhost:8080/"
        },
        "id": "IhFKCoWPgV12",
        "outputId": "3a828793-75b3-4f73-d34b-d80ef4e7ab2c"
      },
      "execution_count": null,
      "outputs": [
        {
          "output_type": "stream",
          "name": "stdout",
          "text": [
            "PYT\n"
          ]
        }
      ]
    },
    {
      "cell_type": "code",
      "source": [
        "print(word[0:])"
      ],
      "metadata": {
        "colab": {
          "base_uri": "https://localhost:8080/"
        },
        "id": "o5X41znugk8T",
        "outputId": "9270ef83-8cc9-4f64-dbd3-05cd0ab2666f"
      },
      "execution_count": null,
      "outputs": [
        {
          "output_type": "stream",
          "name": "stdout",
          "text": [
            "PYTHON\n"
          ]
        }
      ]
    },
    {
      "cell_type": "code",
      "source": [
        "print(word[:4])"
      ],
      "metadata": {
        "colab": {
          "base_uri": "https://localhost:8080/"
        },
        "id": "Q9KWTeeIg5Dh",
        "outputId": "6a068fd2-4b14-4335-b652-35d7592830cb"
      },
      "execution_count": null,
      "outputs": [
        {
          "output_type": "stream",
          "name": "stdout",
          "text": [
            "PYTH\n"
          ]
        }
      ]
    },
    {
      "cell_type": "code",
      "source": [
        "word = \"ARSHNOOR SINGH SOHI\""
      ],
      "metadata": {
        "id": "jgD2-DhFhgEH"
      },
      "execution_count": null,
      "outputs": []
    },
    {
      "cell_type": "code",
      "source": [
        "print(word[0::2])"
      ],
      "metadata": {
        "colab": {
          "base_uri": "https://localhost:8080/"
        },
        "id": "HeH-lBvjhwIB",
        "outputId": "13a76217-edc3-4ab6-84bc-ecb0da59b80e"
      },
      "execution_count": null,
      "outputs": [
        {
          "output_type": "stream",
          "name": "stdout",
          "text": [
            "ASNO IG OI\n"
          ]
        }
      ]
    },
    {
      "cell_type": "code",
      "source": [
        "print(word[0::3])"
      ],
      "metadata": {
        "colab": {
          "base_uri": "https://localhost:8080/"
        },
        "id": "mZX5ZkFnh3f-",
        "outputId": "9d404764-2883-46af-bf7b-498475f96226"
      },
      "execution_count": null,
      "outputs": [
        {
          "output_type": "stream",
          "name": "stdout",
          "text": [
            "AHOSGSI\n"
          ]
        }
      ]
    },
    {
      "cell_type": "code",
      "source": [
        "print(word[0:5:2])"
      ],
      "metadata": {
        "colab": {
          "base_uri": "https://localhost:8080/"
        },
        "id": "a8gcMHzJiD-r",
        "outputId": "7f8b11b1-953f-49d0-cfdf-03a22d0db440"
      },
      "execution_count": null,
      "outputs": [
        {
          "output_type": "stream",
          "name": "stdout",
          "text": [
            "ASN\n"
          ]
        }
      ]
    },
    {
      "cell_type": "code",
      "source": [
        "list1 = [\"apple\", 10, 3.14, [1, 2, 3], \"class\", 20, [4.5, 6.7], 5.5]\n",
        "list2 = [8, \"list in python\", [9.1, 7.2], 15, \"MAC\", [2, 4, 6], 3.33, 12.5]"
      ],
      "metadata": {
        "id": "N15wbJLHiMOz"
      },
      "execution_count": null,
      "outputs": []
    },
    {
      "cell_type": "code",
      "source": [
        "list3 = [1,2,3,4,5]\n",
        "\n",
        "list3 = [\n",
        "    [1,2,3,4,5],\n",
        "    [1,2,3,4,5],\n",
        "    [1,2,3,4,5],\n",
        "    [1,2,3,4,5]\n",
        "]\n",
        "list3\n",
        "print(list3[0][0])\n",
        "print(list3[3][4])"
      ],
      "metadata": {
        "colab": {
          "base_uri": "https://localhost:8080/"
        },
        "id": "G-en1iURigwM",
        "outputId": "42466013-dcea-4a23-c9cc-2d6e81f43252"
      },
      "execution_count": null,
      "outputs": [
        {
          "output_type": "stream",
          "name": "stdout",
          "text": [
            "1\n",
            "5\n"
          ]
        }
      ]
    },
    {
      "cell_type": "code",
      "source": [
        "list1 = [\n",
        "    \"apple\",\n",
        "    10,\n",
        "    3.14,\n",
        "    [1, 2, 3],\n",
        "    \"class\",\n",
        "    20,\n",
        "    [4.5, 6.7],\n",
        "    5.5\n",
        "]\n",
        "list2 = [8, \"list in python\", [9.1, 7.2], 15, \"MAC\", [2, 4, 6], 3.33, 12.5]"
      ],
      "metadata": {
        "id": "p71qv45Eirhw"
      },
      "execution_count": null,
      "outputs": []
    },
    {
      "cell_type": "code",
      "source": [
        "list1[2]"
      ],
      "metadata": {
        "colab": {
          "base_uri": "https://localhost:8080/"
        },
        "id": "y0K3zFzpjcLG",
        "outputId": "790448c9-81d0-489d-808f-acbd7288951c"
      },
      "execution_count": null,
      "outputs": [
        {
          "output_type": "execute_result",
          "data": {
            "text/plain": [
              "3.14"
            ]
          },
          "metadata": {},
          "execution_count": 31
        }
      ]
    },
    {
      "cell_type": "code",
      "source": [
        "len(list1)"
      ],
      "metadata": {
        "colab": {
          "base_uri": "https://localhost:8080/"
        },
        "id": "WA4Na2_ckj06",
        "outputId": "7baec5dc-1808-4362-d178-24e0d5d53db7"
      },
      "execution_count": null,
      "outputs": [
        {
          "output_type": "execute_result",
          "data": {
            "text/plain": [
              "8"
            ]
          },
          "metadata": {},
          "execution_count": 33
        }
      ]
    },
    {
      "cell_type": "code",
      "source": [
        "list2[-4:-1]"
      ],
      "metadata": {
        "colab": {
          "base_uri": "https://localhost:8080/"
        },
        "id": "M3KYNTWYlNyl",
        "outputId": "3ebb7861-b60c-4dd9-bb97-1323e324c2d4"
      },
      "execution_count": null,
      "outputs": [
        {
          "output_type": "execute_result",
          "data": {
            "text/plain": [
              "['MAC', [2, 4, 6], 3.33]"
            ]
          },
          "metadata": {},
          "execution_count": 34
        }
      ]
    },
    {
      "cell_type": "code",
      "source": [
        "list1[2:14]"
      ],
      "metadata": {
        "colab": {
          "base_uri": "https://localhost:8080/"
        },
        "id": "X_By0sgGl5FQ",
        "outputId": "63fb07a7-8b87-4d0e-e139-d841f4d14c4a"
      },
      "execution_count": null,
      "outputs": [
        {
          "output_type": "execute_result",
          "data": {
            "text/plain": [
              "[3.14, [1, 2, 3], 'class', 20, [4.5, 6.7], 5.5]"
            ]
          },
          "metadata": {},
          "execution_count": 35
        }
      ]
    },
    {
      "cell_type": "code",
      "source": [
        "list2+list1"
      ],
      "metadata": {
        "colab": {
          "base_uri": "https://localhost:8080/"
        },
        "id": "CyyTb14emTXK",
        "outputId": "85dd8fca-95cc-48d7-dab3-5192f7e528cc"
      },
      "execution_count": null,
      "outputs": [
        {
          "output_type": "execute_result",
          "data": {
            "text/plain": [
              "[8,\n",
              " 'list in python',\n",
              " [9.1, 7.2],\n",
              " 15,\n",
              " 'MAC',\n",
              " [2, 4, 6],\n",
              " 3.33,\n",
              " 12.5,\n",
              " 'apple',\n",
              " 10,\n",
              " 3.14,\n",
              " [1, 2, 3],\n",
              " 'class',\n",
              " 20,\n",
              " [4.5, 6.7],\n",
              " 5.5]"
            ]
          },
          "metadata": {},
          "execution_count": 36
        }
      ]
    },
    {
      "cell_type": "code",
      "source": [
        "list1"
      ],
      "metadata": {
        "colab": {
          "base_uri": "https://localhost:8080/"
        },
        "id": "PJtBMZtkmW_-",
        "outputId": "1ffbabc1-e91c-4cb5-d96b-d2a36c3fe8e7"
      },
      "execution_count": null,
      "outputs": [
        {
          "output_type": "execute_result",
          "data": {
            "text/plain": [
              "['apple', 10, 3.14, [1, 2, 3], 'class', 20, [4.5, 6.7], 5.5]"
            ]
          },
          "metadata": {},
          "execution_count": 37
        }
      ]
    },
    {
      "cell_type": "code",
      "source": [
        "list1*2"
      ],
      "metadata": {
        "colab": {
          "base_uri": "https://localhost:8080/"
        },
        "id": "xLOQUAVmmcz8",
        "outputId": "8f916693-eb3b-4f23-b054-6899bec11c76"
      },
      "execution_count": null,
      "outputs": [
        {
          "output_type": "execute_result",
          "data": {
            "text/plain": [
              "['apple',\n",
              " 10,\n",
              " 3.14,\n",
              " [1, 2, 3],\n",
              " 'class',\n",
              " 20,\n",
              " [4.5, 6.7],\n",
              " 5.5,\n",
              " 'apple',\n",
              " 10,\n",
              " 3.14,\n",
              " [1, 2, 3],\n",
              " 'class',\n",
              " 20,\n",
              " [4.5, 6.7],\n",
              " 5.5]"
            ]
          },
          "metadata": {},
          "execution_count": 38
        }
      ]
    },
    {
      "cell_type": "code",
      "source": [
        "del list1[-3]"
      ],
      "metadata": {
        "id": "8iJsh8CHmgtu"
      },
      "execution_count": null,
      "outputs": []
    },
    {
      "cell_type": "code",
      "source": [
        "list1"
      ],
      "metadata": {
        "colab": {
          "base_uri": "https://localhost:8080/"
        },
        "id": "7TWQ-fHPmqG_",
        "outputId": "8f5171cf-d97b-4c9f-a6bb-e56cef321ee9"
      },
      "execution_count": null,
      "outputs": [
        {
          "output_type": "execute_result",
          "data": {
            "text/plain": [
              "['apple', 10, 3.14, [1, 2, 3], 'class', [4.5, 6.7], 5.5]"
            ]
          },
          "metadata": {},
          "execution_count": 40
        }
      ]
    },
    {
      "cell_type": "code",
      "source": [
        "list1.append(\"Harsh\")"
      ],
      "metadata": {
        "id": "GIdaZDp2mqxP"
      },
      "execution_count": null,
      "outputs": []
    },
    {
      "cell_type": "code",
      "source": [
        "list1"
      ],
      "metadata": {
        "colab": {
          "base_uri": "https://localhost:8080/"
        },
        "id": "qqtrDB32mzpr",
        "outputId": "5455bf2d-7d11-4257-953d-575c2d388c2d"
      },
      "execution_count": null,
      "outputs": [
        {
          "output_type": "execute_result",
          "data": {
            "text/plain": [
              "['apple', 10, 3.14, [1, 2, 3], 'class', [4.5, 6.7], 5.5, 'Harsh']"
            ]
          },
          "metadata": {},
          "execution_count": 43
        }
      ]
    },
    {
      "cell_type": "code",
      "source": [
        "list1.pop()"
      ],
      "metadata": {
        "colab": {
          "base_uri": "https://localhost:8080/",
          "height": 35
        },
        "id": "G543ucY5m2LG",
        "outputId": "1c5243a7-37f5-4740-a43a-1a0f90239e11"
      },
      "execution_count": null,
      "outputs": [
        {
          "output_type": "execute_result",
          "data": {
            "text/plain": [
              "'Harsh'"
            ],
            "application/vnd.google.colaboratory.intrinsic+json": {
              "type": "string"
            }
          },
          "metadata": {},
          "execution_count": 45
        }
      ]
    },
    {
      "cell_type": "code",
      "source": [
        "list1"
      ],
      "metadata": {
        "colab": {
          "base_uri": "https://localhost:8080/"
        },
        "id": "msVTdUTcm-vd",
        "outputId": "3d0e69f6-5d1d-413c-9c16-66c5f0928cf2"
      },
      "execution_count": null,
      "outputs": [
        {
          "output_type": "execute_result",
          "data": {
            "text/plain": [
              "['apple', 10, 3.14, [1, 2, 3], 'class', [4.5, 6.7], 5.5]"
            ]
          },
          "metadata": {},
          "execution_count": 47
        }
      ]
    },
    {
      "cell_type": "markdown",
      "source": [
        "Mutable = Can be changed\n",
        "\n",
        "\n",
        "Immutable = Cannot be changed"
      ],
      "metadata": {
        "id": "kcq5qQ1qnHx-"
      }
    },
    {
      "cell_type": "code",
      "source": [
        "list1.insert(2, \"Harsh\")"
      ],
      "metadata": {
        "id": "q6rqmIRznBQh"
      },
      "execution_count": null,
      "outputs": []
    },
    {
      "cell_type": "code",
      "source": [
        "list1"
      ],
      "metadata": {
        "colab": {
          "base_uri": "https://localhost:8080/"
        },
        "id": "acxfIaOxnbuc",
        "outputId": "99d32f6d-0f4a-4960-e6cb-d2baa9d20964"
      },
      "execution_count": null,
      "outputs": [
        {
          "output_type": "execute_result",
          "data": {
            "text/plain": [
              "['apple', 10, 'Harsh', 3.14, [1, 2, 3], 'class', [4.5, 6.7], 5.5]"
            ]
          },
          "metadata": {},
          "execution_count": 49
        }
      ]
    },
    {
      "cell_type": "code",
      "source": [
        "list1.extend([44, 66])"
      ],
      "metadata": {
        "id": "7kPjRzgfncbx"
      },
      "execution_count": null,
      "outputs": []
    },
    {
      "cell_type": "code",
      "source": [
        "list1"
      ],
      "metadata": {
        "colab": {
          "base_uri": "https://localhost:8080/"
        },
        "id": "UFejvaKfpEgA",
        "outputId": "38be4f1c-e7db-4e3c-8842-07e7ebe74b4a"
      },
      "execution_count": null,
      "outputs": [
        {
          "output_type": "execute_result",
          "data": {
            "text/plain": [
              "['apple', 10, 'Harsh', 3.14, [1, 2, 3], 'class', [4.5, 6.7], 5.5, 44, 66]"
            ]
          },
          "metadata": {},
          "execution_count": 51
        }
      ]
    },
    {
      "cell_type": "code",
      "source": [
        "str1 = \"Django allows a rapid web development and creates scalable systems\"\n",
        "str2 = \"There are two areas in cloud computing: performance and security\""
      ],
      "metadata": {
        "id": "BIDUpJ5XpFUy"
      },
      "execution_count": null,
      "outputs": []
    },
    {
      "cell_type": "code",
      "source": [
        "str2[-1:-6:-2]\n",
        "str2[-6:-1]"
      ],
      "metadata": {
        "colab": {
          "base_uri": "https://localhost:8080/",
          "height": 35
        },
        "id": "J0Lbl_odpRir",
        "outputId": "c3f9e819-6f48-4755-9764-350e9d9bbca0"
      },
      "execution_count": null,
      "outputs": [
        {
          "output_type": "execute_result",
          "data": {
            "text/plain": [
              "'curit'"
            ],
            "application/vnd.google.colaboratory.intrinsic+json": {
              "type": "string"
            }
          },
          "metadata": {},
          "execution_count": 63
        }
      ]
    },
    {
      "cell_type": "code",
      "source": [
        "str1[9]"
      ],
      "metadata": {
        "colab": {
          "base_uri": "https://localhost:8080/",
          "height": 35
        },
        "id": "B1P_YmJkpy7h",
        "outputId": "3b1b8f09-1b4f-40c8-c4a0-3fc526c71818"
      },
      "execution_count": null,
      "outputs": [
        {
          "output_type": "execute_result",
          "data": {
            "text/plain": [
              "'l'"
            ],
            "application/vnd.google.colaboratory.intrinsic+json": {
              "type": "string"
            }
          },
          "metadata": {},
          "execution_count": 61
        }
      ]
    },
    {
      "cell_type": "code",
      "source": [
        "str2[-2:]"
      ],
      "metadata": {
        "colab": {
          "base_uri": "https://localhost:8080/",
          "height": 35
        },
        "id": "Q9_hOG3gqmuY",
        "outputId": "2cae5c8b-3854-4e6d-d91b-0e7ba9e4e123"
      },
      "execution_count": null,
      "outputs": [
        {
          "output_type": "execute_result",
          "data": {
            "text/plain": [
              "'ty'"
            ],
            "application/vnd.google.colaboratory.intrinsic+json": {
              "type": "string"
            }
          },
          "metadata": {},
          "execution_count": 62
        }
      ]
    },
    {
      "cell_type": "code",
      "source": [
        "str2[0:20:3]"
      ],
      "metadata": {
        "colab": {
          "base_uri": "https://localhost:8080/",
          "height": 35
        },
        "id": "58-wsj57qsVQ",
        "outputId": "5325fddf-a5cb-41e7-f91b-911f78129e89"
      },
      "execution_count": null,
      "outputs": [
        {
          "output_type": "execute_result",
          "data": {
            "text/plain": [
              "'Tra ors'"
            ],
            "application/vnd.google.colaboratory.intrinsic+json": {
              "type": "string"
            }
          },
          "metadata": {},
          "execution_count": 64
        }
      ]
    },
    {
      "cell_type": "code",
      "source": [
        "str1 + \" \" + str2"
      ],
      "metadata": {
        "colab": {
          "base_uri": "https://localhost:8080/",
          "height": 35
        },
        "id": "bs_6hxtrrbfO",
        "outputId": "fc830c7a-7296-4874-ae07-f0fb44ecbd95"
      },
      "execution_count": null,
      "outputs": [
        {
          "output_type": "execute_result",
          "data": {
            "text/plain": [
              "'Django allows a rapid web development and creates scalable systems There are two areas in cloud computing: performance and security'"
            ],
            "application/vnd.google.colaboratory.intrinsic+json": {
              "type": "string"
            }
          },
          "metadata": {},
          "execution_count": 65
        }
      ]
    },
    {
      "cell_type": "code",
      "source": [
        "L1 = [7, 55, 3.9, ['red', 'blue', [1,2,3]]]\n",
        "L2= ['abc', 2, 4, 6]"
      ],
      "metadata": {
        "id": "Ztaf_n6Vriru"
      },
      "execution_count": null,
      "outputs": []
    },
    {
      "cell_type": "code",
      "source": [
        "L1[3][2][1]"
      ],
      "metadata": {
        "colab": {
          "base_uri": "https://localhost:8080/"
        },
        "id": "HAImpYu0rsLF",
        "outputId": "f231d074-4809-4e05-fc2a-1492b68540c2"
      },
      "execution_count": null,
      "outputs": [
        {
          "output_type": "execute_result",
          "data": {
            "text/plain": [
              "2"
            ]
          },
          "metadata": {},
          "execution_count": 69
        }
      ]
    },
    {
      "cell_type": "code",
      "source": [
        "L1[-1][-1][-1]"
      ],
      "metadata": {
        "colab": {
          "base_uri": "https://localhost:8080/"
        },
        "id": "rRUL0PUnr6Bl",
        "outputId": "b5cf67fd-1cb1-4dbb-ce43-8112be49a05a"
      },
      "execution_count": null,
      "outputs": [
        {
          "output_type": "execute_result",
          "data": {
            "text/plain": [
              "3"
            ]
          },
          "metadata": {},
          "execution_count": 70
        }
      ]
    },
    {
      "cell_type": "code",
      "source": [
        "len(L1+L2)"
      ],
      "metadata": {
        "colab": {
          "base_uri": "https://localhost:8080/"
        },
        "id": "AFsrFKr_sRli",
        "outputId": "9126c6ed-3425-4ebc-e328-65214599930f"
      },
      "execution_count": null,
      "outputs": [
        {
          "output_type": "execute_result",
          "data": {
            "text/plain": [
              "8"
            ]
          },
          "metadata": {},
          "execution_count": 71
        }
      ]
    },
    {
      "cell_type": "code",
      "source": [
        "7 in L1"
      ],
      "metadata": {
        "colab": {
          "base_uri": "https://localhost:8080/"
        },
        "id": "roTmN4Q6sYyC",
        "outputId": "0cd9d308-c56b-4b99-f3a4-b36f280de3b9"
      },
      "execution_count": null,
      "outputs": [
        {
          "output_type": "execute_result",
          "data": {
            "text/plain": [
              "True"
            ]
          },
          "metadata": {},
          "execution_count": 74
        }
      ]
    },
    {
      "cell_type": "code",
      "source": [
        "L2.pop()"
      ],
      "metadata": {
        "colab": {
          "base_uri": "https://localhost:8080/"
        },
        "id": "4iQ18tZBsdxc",
        "outputId": "a53dbba2-bd77-41d4-dbf2-b762f09c8d4e"
      },
      "execution_count": null,
      "outputs": [
        {
          "output_type": "execute_result",
          "data": {
            "text/plain": [
              "6"
            ]
          },
          "metadata": {},
          "execution_count": 75
        }
      ]
    },
    {
      "cell_type": "markdown",
      "source": [
        "Write a Python command to list the last 2 elements of a list L3:\n",
        "\n",
        "L3[-2:]"
      ],
      "metadata": {
        "id": "4Gi-iAmKspAq"
      }
    },
    {
      "cell_type": "code",
      "source": [
        "L3 = [1,2,3,4,5,6]\n",
        "print(L3[-2:-1])\n",
        "print(L3[-2:])"
      ],
      "metadata": {
        "colab": {
          "base_uri": "https://localhost:8080/"
        },
        "id": "uBLrlZaHslut",
        "outputId": "d44488be-ee56-4b96-db9c-2ea0caa4b2df"
      },
      "execution_count": null,
      "outputs": [
        {
          "output_type": "stream",
          "name": "stdout",
          "text": [
            "[5]\n",
            "[5, 6]\n"
          ]
        }
      ]
    },
    {
      "cell_type": "code",
      "source": [
        "5 == 5"
      ],
      "metadata": {
        "colab": {
          "base_uri": "https://localhost:8080/"
        },
        "id": "kN7JWclxtMpZ",
        "outputId": "22f91b68-ff0e-4310-a4ea-30e1e36c83d9"
      },
      "execution_count": null,
      "outputs": [
        {
          "output_type": "execute_result",
          "data": {
            "text/plain": [
              "True"
            ]
          },
          "metadata": {},
          "execution_count": 79
        }
      ]
    },
    {
      "cell_type": "code",
      "source": [
        "5 == 4"
      ],
      "metadata": {
        "colab": {
          "base_uri": "https://localhost:8080/"
        },
        "id": "xv4eCBGJtloX",
        "outputId": "774d1132-55a6-43a7-a670-a7dcaf8a0c71"
      },
      "execution_count": null,
      "outputs": [
        {
          "output_type": "execute_result",
          "data": {
            "text/plain": [
              "False"
            ]
          },
          "metadata": {},
          "execution_count": 80
        }
      ]
    },
    {
      "cell_type": "code",
      "source": [
        "5 != 4"
      ],
      "metadata": {
        "colab": {
          "base_uri": "https://localhost:8080/"
        },
        "id": "Crx_vnWotnQf",
        "outputId": "dfb2d485-bede-4f09-f14d-1879d7a71144"
      },
      "execution_count": null,
      "outputs": [
        {
          "output_type": "execute_result",
          "data": {
            "text/plain": [
              "True"
            ]
          },
          "metadata": {},
          "execution_count": 81
        }
      ]
    },
    {
      "cell_type": "code",
      "source": [
        "3 < 5"
      ],
      "metadata": {
        "colab": {
          "base_uri": "https://localhost:8080/"
        },
        "id": "OZXsaeRTtqcn",
        "outputId": "2f6850f2-0f6b-45e2-cbef-571b4b21cb87"
      },
      "execution_count": null,
      "outputs": [
        {
          "output_type": "execute_result",
          "data": {
            "text/plain": [
              "True"
            ]
          },
          "metadata": {},
          "execution_count": 82
        }
      ]
    },
    {
      "cell_type": "code",
      "source": [
        "\"a\" in \"apple\""
      ],
      "metadata": {
        "colab": {
          "base_uri": "https://localhost:8080/"
        },
        "id": "IdkTIxgTtsKo",
        "outputId": "31063835-3fcd-4d73-f0ea-1c12d66049aa"
      },
      "execution_count": null,
      "outputs": [
        {
          "output_type": "execute_result",
          "data": {
            "text/plain": [
              "True"
            ]
          },
          "metadata": {},
          "execution_count": 83
        }
      ]
    },
    {
      "cell_type": "markdown",
      "source": [
        "0, 0.0, \"\" => False"
      ],
      "metadata": {
        "id": "TIfGKxmJt2X7"
      }
    },
    {
      "cell_type": "code",
      "source": [
        "-7 > 8 or 5 > 2"
      ],
      "metadata": {
        "colab": {
          "base_uri": "https://localhost:8080/"
        },
        "id": "-S5DwVI7uHvl",
        "outputId": "3d861b9e-956b-4b59-c4a8-b419e616e315"
      },
      "execution_count": null,
      "outputs": [
        {
          "output_type": "execute_result",
          "data": {
            "text/plain": [
              "True"
            ]
          },
          "metadata": {},
          "execution_count": 87
        }
      ]
    },
    {
      "cell_type": "code",
      "source": [
        "5 and 2 and 4 and 7 and 0"
      ],
      "metadata": {
        "colab": {
          "base_uri": "https://localhost:8080/"
        },
        "id": "NBoYX4vwtwOO",
        "outputId": "4a5dac7f-18bc-4270-f520-46d8a9ecd997"
      },
      "execution_count": null,
      "outputs": [
        {
          "output_type": "execute_result",
          "data": {
            "text/plain": [
              "0"
            ]
          },
          "metadata": {},
          "execution_count": 103
        }
      ]
    },
    {
      "cell_type": "code",
      "source": [
        "2 and 0"
      ],
      "metadata": {
        "colab": {
          "base_uri": "https://localhost:8080/"
        },
        "id": "rplIYtbyt_cn",
        "outputId": "c30eec11-fa0f-4b11-cb1b-ef3eef087f51"
      },
      "execution_count": null,
      "outputs": [
        {
          "output_type": "execute_result",
          "data": {
            "text/plain": [
              "0"
            ]
          },
          "metadata": {},
          "execution_count": 94
        }
      ]
    },
    {
      "cell_type": "code",
      "source": [
        "0 or 0 or 8 or 0 or 0 or 0 or 0 or 5 or 0 or 0 or 0 or 0 or 0 or 0 or 0"
      ],
      "metadata": {
        "colab": {
          "base_uri": "https://localhost:8080/"
        },
        "id": "kAUvzKXCuioE",
        "outputId": "ea982270-e5ce-44a2-e705-052dfc7a8bdd"
      },
      "execution_count": null,
      "outputs": [
        {
          "output_type": "execute_result",
          "data": {
            "text/plain": [
              "8"
            ]
          },
          "metadata": {},
          "execution_count": 101
        }
      ]
    },
    {
      "cell_type": "code",
      "source": [
        "0>5 or 0>7 or -1>2"
      ],
      "metadata": {
        "colab": {
          "base_uri": "https://localhost:8080/"
        },
        "id": "ayOGE3lvupYE",
        "outputId": "dc4320d2-b1e4-44fe-be54-64b386809023"
      },
      "execution_count": null,
      "outputs": [
        {
          "output_type": "execute_result",
          "data": {
            "text/plain": [
              "False"
            ]
          },
          "metadata": {},
          "execution_count": 97
        }
      ]
    },
    {
      "cell_type": "code",
      "source": [
        "0>5 and 8>7 and 5>2"
      ],
      "metadata": {
        "colab": {
          "base_uri": "https://localhost:8080/"
        },
        "id": "xXzYJs9-vooi",
        "outputId": "2a388b6e-505e-44d7-9f50-3f82d82e0d65"
      },
      "execution_count": null,
      "outputs": [
        {
          "output_type": "execute_result",
          "data": {
            "text/plain": [
              "False"
            ]
          },
          "metadata": {},
          "execution_count": 96
        }
      ]
    },
    {
      "cell_type": "code",
      "source": [
        "print(0 or 0)\n",
        "print(0 or 1)\n",
        "print(1 or 0)\n",
        "print(1 or 1)"
      ],
      "metadata": {
        "colab": {
          "base_uri": "https://localhost:8080/"
        },
        "id": "B_Di4fUxvsGx",
        "outputId": "66a6fb6b-94d7-49cd-8fd8-c7ab632b9fd1"
      },
      "execution_count": null,
      "outputs": [
        {
          "output_type": "stream",
          "name": "stdout",
          "text": [
            "0\n",
            "1\n",
            "1\n",
            "1\n"
          ]
        }
      ]
    },
    {
      "cell_type": "code",
      "source": [
        "print(0 and 0)\n",
        "print(0 and 1)\n",
        "print(1 and 0)\n",
        "print(1 and 1)"
      ],
      "metadata": {
        "colab": {
          "base_uri": "https://localhost:8080/"
        },
        "id": "KyZhgH_Nv2oI",
        "outputId": "f503a5bc-1f3c-4c9b-89b8-494f6f964ed9"
      },
      "execution_count": null,
      "outputs": [
        {
          "output_type": "stream",
          "name": "stdout",
          "text": [
            "0\n",
            "0\n",
            "0\n",
            "1\n"
          ]
        }
      ]
    },
    {
      "cell_type": "code",
      "source": [
        "a = 5\n",
        "if a < 10:\n",
        "  print(\"a is less then 10\")\n",
        "else:\n",
        "  print(\"a is greater then 10\")"
      ],
      "metadata": {
        "colab": {
          "base_uri": "https://localhost:8080/"
        },
        "id": "G5W2WRQ9wLHp",
        "outputId": "3f8ff84b-1db1-482b-8bf7-360f1ff750df"
      },
      "execution_count": null,
      "outputs": [
        {
          "output_type": "stream",
          "name": "stdout",
          "text": [
            "a is less then 10\n"
          ]
        }
      ]
    },
    {
      "cell_type": "code",
      "source": [
        "x = 0\n",
        "sum = 0\n",
        "while x < 10:\n",
        "  sum = sum + x\n",
        "  x = x + 1\n",
        "print(sum)"
      ],
      "metadata": {
        "colab": {
          "base_uri": "https://localhost:8080/"
        },
        "id": "7pFK2VrHwt4n",
        "outputId": "258992c3-7795-418b-9177-172e7201616b"
      },
      "execution_count": null,
      "outputs": [
        {
          "output_type": "stream",
          "name": "stdout",
          "text": [
            "45\n"
          ]
        }
      ]
    },
    {
      "cell_type": "code",
      "source": [
        "fruits = ['aappppllee', 'ppeeaarr', 'pplluumm', 'ppeeaacchh']\n",
        "for harsh in fruits:\n",
        "  print(harsh)"
      ],
      "metadata": {
        "colab": {
          "base_uri": "https://localhost:8080/"
        },
        "id": "7k_boDClxEke",
        "outputId": "9b791be6-f4db-405f-f994-6a1ac0683e71"
      },
      "execution_count": null,
      "outputs": [
        {
          "output_type": "stream",
          "name": "stdout",
          "text": [
            "aappppllee\n",
            "ppeeaarr\n",
            "pplluumm\n",
            "ppeeaacchh\n"
          ]
        }
      ]
    },
    {
      "cell_type": "code",
      "source": [
        "for i in range(0,10):\n",
        "  print(i)"
      ],
      "metadata": {
        "colab": {
          "base_uri": "https://localhost:8080/"
        },
        "id": "JJqlJdS5xbOk",
        "outputId": "c8728b49-9164-42b3-bea9-567d52053628"
      },
      "execution_count": null,
      "outputs": [
        {
          "output_type": "stream",
          "name": "stdout",
          "text": [
            "0\n",
            "1\n",
            "2\n",
            "3\n",
            "4\n",
            "5\n",
            "6\n",
            "7\n",
            "8\n",
            "9\n"
          ]
        }
      ]
    },
    {
      "cell_type": "code",
      "source": [
        "def greet():\n",
        "  print(\"Hello Kirti\")\n",
        "\n",
        "greet()"
      ],
      "metadata": {
        "colab": {
          "base_uri": "https://localhost:8080/"
        },
        "id": "aLN1zAZ0x10j",
        "outputId": "6b809956-5cff-4a30-81f0-48ee1bc7afe7"
      },
      "execution_count": null,
      "outputs": [
        {
          "output_type": "stream",
          "name": "stdout",
          "text": [
            "Hello Kirti\n"
          ]
        }
      ]
    },
    {
      "cell_type": "code",
      "source": [
        "S1 = \"A red car\"\n",
        "S1[2:-6]"
      ],
      "metadata": {
        "id": "u2t36cvGyYwJ",
        "colab": {
          "base_uri": "https://localhost:8080/",
          "height": 35
        },
        "outputId": "573dc193-0bcd-4dcc-f226-3af4c13dc0fd"
      },
      "execution_count": 1,
      "outputs": [
        {
          "output_type": "execute_result",
          "data": {
            "text/plain": [
              "'r'"
            ],
            "application/vnd.google.colaboratory.intrinsic+json": {
              "type": "string"
            }
          },
          "metadata": {},
          "execution_count": 1
        }
      ]
    },
    {
      "cell_type": "code",
      "source": [],
      "metadata": {
        "id": "RUsF6QjadUES"
      },
      "execution_count": null,
      "outputs": []
    }
  ]
}