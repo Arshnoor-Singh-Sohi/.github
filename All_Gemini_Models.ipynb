{
  "nbformat": 4,
  "nbformat_minor": 0,
  "metadata": {
    "colab": {
      "provenance": [],
      "authorship_tag": "ABX9TyOoAt0SOx7grHTgP7S4jLBL",
      "include_colab_link": true
    },
    "kernelspec": {
      "name": "python3",
      "display_name": "Python 3"
    },
    "language_info": {
      "name": "python"
    }
  },
  "cells": [
    {
      "cell_type": "markdown",
      "metadata": {
        "id": "view-in-github",
        "colab_type": "text"
      },
      "source": [
        "<a href=\"https://colab.research.google.com/github/Arshnoor-Singh-Sohi/.github/blob/main/All_Gemini_Models.ipynb\" target=\"_parent\"><img src=\"https://colab.research.google.com/assets/colab-badge.svg\" alt=\"Open In Colab\"/></a>"
      ]
    },
    {
      "cell_type": "code",
      "execution_count": 1,
      "metadata": {
        "id": "TPMdKdtL1a9S"
      },
      "outputs": [],
      "source": [
        "pip install -q -U google-generativeai"
      ]
    },
    {
      "cell_type": "code",
      "source": [
        "import pathlib\n",
        "import textwrap\n",
        "\n",
        "import google.generativeai as genai\n",
        "\n",
        "from IPython.display import display\n",
        "from IPython.display import Markdown\n",
        "\n",
        "def to_markdown(text):\n",
        "  text = text.replace(\".\", \"  *\")\n",
        "  display(Markdown(textwrap.indent(text, '> ', predicate=lambda _: True)))"
      ],
      "metadata": {
        "id": "Tt-uPYjJ2E27"
      },
      "execution_count": 5,
      "outputs": []
    },
    {
      "cell_type": "code",
      "source": [
        "# Used to securely stire your API Key\n",
        "from google.colab import userdata"
      ],
      "metadata": {
        "id": "ntMxD4Pf251L"
      },
      "execution_count": 6,
      "outputs": []
    },
    {
      "cell_type": "markdown",
      "source": [
        "# Setup your API Key"
      ],
      "metadata": {
        "id": "DWbyzAFF3EX8"
      }
    },
    {
      "cell_type": "code",
      "source": [
        "GOOGLE_API_KEY = userdata.get('GOOGLE_API_KEY')\n",
        "\n",
        "genai.configure(api_key=GOOGLE_API_KEY)"
      ],
      "metadata": {
        "id": "_DmYcFwy3CHN"
      },
      "execution_count": 7,
      "outputs": []
    },
    {
      "cell_type": "markdown",
      "source": [
        "# List Models"
      ],
      "metadata": {
        "id": "YREbLA5d3rm4"
      }
    },
    {
      "cell_type": "code",
      "source": [
        "for m in genai.list_models():\n",
        "  if 'generateContent' in m.supported_generation_methods:\n",
        "    print(f'{m.name}: {m.supported_generation_methods}')"
      ],
      "metadata": {
        "colab": {
          "base_uri": "https://localhost:8080/",
          "height": 781
        },
        "id": "eF4-DJ2V3l5u",
        "outputId": "e171f4c4-d007-453a-b4c5-528899c787ad"
      },
      "execution_count": 8,
      "outputs": [
        {
          "output_type": "stream",
          "name": "stdout",
          "text": [
            "models/gemini-1.0-pro-vision-latest: ['generateContent', 'countTokens']\n",
            "models/gemini-pro-vision: ['generateContent', 'countTokens']\n",
            "models/gemini-1.5-pro-latest: ['generateContent', 'countTokens']\n",
            "models/gemini-1.5-pro-002: ['generateContent', 'countTokens', 'createCachedContent']\n",
            "models/gemini-1.5-pro: ['generateContent', 'countTokens']\n",
            "models/gemini-1.5-flash-latest: ['generateContent', 'countTokens']\n",
            "models/gemini-1.5-flash: ['generateContent', 'countTokens']\n",
            "models/gemini-1.5-flash-002: ['generateContent', 'countTokens', 'createCachedContent']\n",
            "models/gemini-1.5-flash-8b: ['createCachedContent', 'generateContent', 'countTokens']\n",
            "models/gemini-1.5-flash-8b-001: ['createCachedContent', 'generateContent', 'countTokens']\n",
            "models/gemini-1.5-flash-8b-latest: ['createCachedContent', 'generateContent', 'countTokens']\n",
            "models/gemini-2.5-pro-exp-03-25: ['generateContent', 'countTokens', 'createCachedContent', 'batchGenerateContent']\n",
            "models/gemini-2.5-pro-preview-03-25: ['generateContent', 'countTokens', 'createCachedContent', 'batchGenerateContent']\n",
            "models/gemini-2.5-flash-preview-04-17: ['generateContent', 'countTokens', 'createCachedContent', 'batchGenerateContent']\n",
            "models/gemini-2.5-flash-preview-05-20: ['generateContent', 'countTokens', 'createCachedContent', 'batchGenerateContent']\n",
            "models/gemini-2.5-flash: ['generateContent', 'countTokens', 'createCachedContent', 'batchGenerateContent']\n",
            "models/gemini-2.5-flash-preview-04-17-thinking: ['generateContent', 'countTokens', 'createCachedContent', 'batchGenerateContent']\n",
            "models/gemini-2.5-flash-lite-preview-06-17: ['generateContent', 'countTokens', 'createCachedContent', 'batchGenerateContent']\n",
            "models/gemini-2.5-pro-preview-05-06: ['generateContent', 'countTokens', 'createCachedContent', 'batchGenerateContent']\n",
            "models/gemini-2.5-pro-preview-06-05: ['generateContent', 'countTokens', 'createCachedContent', 'batchGenerateContent']\n",
            "models/gemini-2.5-pro: ['generateContent', 'countTokens', 'createCachedContent', 'batchGenerateContent']\n",
            "models/gemini-2.0-flash-exp: ['generateContent', 'countTokens', 'bidiGenerateContent']\n",
            "models/gemini-2.0-flash: ['generateContent', 'countTokens', 'createCachedContent', 'batchGenerateContent']\n",
            "models/gemini-2.0-flash-001: ['generateContent', 'countTokens', 'createCachedContent', 'batchGenerateContent']\n",
            "models/gemini-2.0-flash-exp-image-generation: ['generateContent', 'countTokens', 'bidiGenerateContent']\n",
            "models/gemini-2.0-flash-lite-001: ['generateContent', 'countTokens', 'createCachedContent', 'batchGenerateContent']\n",
            "models/gemini-2.0-flash-lite: ['generateContent', 'countTokens', 'createCachedContent', 'batchGenerateContent']\n",
            "models/gemini-2.0-flash-preview-image-generation: ['generateContent', 'countTokens']\n",
            "models/gemini-2.0-flash-lite-preview-02-05: ['generateContent', 'countTokens', 'createCachedContent', 'batchGenerateContent']\n",
            "models/gemini-2.0-flash-lite-preview: ['generateContent', 'countTokens', 'createCachedContent', 'batchGenerateContent']\n",
            "models/gemini-2.0-pro-exp: ['generateContent', 'countTokens', 'createCachedContent', 'batchGenerateContent']\n",
            "models/gemini-2.0-pro-exp-02-05: ['generateContent', 'countTokens', 'createCachedContent', 'batchGenerateContent']\n",
            "models/gemini-exp-1206: ['generateContent', 'countTokens', 'createCachedContent', 'batchGenerateContent']\n",
            "models/gemini-2.0-flash-thinking-exp-01-21: ['generateContent', 'countTokens', 'createCachedContent', 'batchGenerateContent']\n",
            "models/gemini-2.0-flash-thinking-exp: ['generateContent', 'countTokens', 'createCachedContent', 'batchGenerateContent']\n",
            "models/gemini-2.0-flash-thinking-exp-1219: ['generateContent', 'countTokens', 'createCachedContent', 'batchGenerateContent']\n",
            "models/gemini-2.5-flash-preview-tts: ['countTokens', 'generateContent']\n",
            "models/gemini-2.5-pro-preview-tts: ['countTokens', 'generateContent']\n",
            "models/learnlm-2.0-flash-experimental: ['generateContent', 'countTokens']\n",
            "models/gemma-3-1b-it: ['generateContent', 'countTokens']\n",
            "models/gemma-3-4b-it: ['generateContent', 'countTokens']\n",
            "models/gemma-3-12b-it: ['generateContent', 'countTokens']\n",
            "models/gemma-3-27b-it: ['generateContent', 'countTokens']\n",
            "models/gemma-3n-e4b-it: ['generateContent', 'countTokens']\n"
          ]
        }
      ]
    },
    {
      "cell_type": "code",
      "source": [],
      "metadata": {
        "id": "hm_-no1t4Egs"
      },
      "execution_count": null,
      "outputs": []
    }
  ]
}